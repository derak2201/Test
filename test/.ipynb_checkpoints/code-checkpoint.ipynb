{
 "cells": [
  {
   "cell_type": "markdown",
   "id": "40f144a8",
   "metadata": {},
   "source": [
    "First Commit"
   ]
  },
  {
   "cell_type": "code",
   "execution_count": 1,
   "id": "ac21582a",
   "metadata": {},
   "outputs": [],
   "source": [
    "import pandas as pd\n",
    "import numpy as np"
   ]
  },
  {
   "cell_type": "markdown",
   "id": "5d39849a",
   "metadata": {},
   "source": [
    "Second Commit"
   ]
  },
  {
   "cell_type": "code",
   "execution_count": null,
   "id": "79759aa3",
   "metadata": {},
   "outputs": [],
   "source": [
    "data = pd.read_csv()"
   ]
  },
  {
   "cell_type": "markdown",
   "id": "3150e4f0",
   "metadata": {},
   "source": [
    "Changes in DEV"
   ]
  },
  {
   "cell_type": "code",
   "execution_count": null,
   "id": "de297f51",
   "metadata": {},
   "outputs": [],
   "source": []
  },
  {
   "cell_type": "code",
   "execution_count": null,
   "id": "dcb5ff77",
   "metadata": {},
   "outputs": [],
   "source": []
  }
 ],
 "metadata": {
  "kernelspec": {
   "display_name": "Python 3 (ipykernel)",
   "language": "python",
   "name": "python3"
  },
  "language_info": {
   "codemirror_mode": {
    "name": "ipython",
    "version": 3
   },
   "file_extension": ".py",
   "mimetype": "text/x-python",
   "name": "python",
   "nbconvert_exporter": "python",
   "pygments_lexer": "ipython3",
   "version": "3.9.12"
  }
 },
 "nbformat": 4,
 "nbformat_minor": 5
}
